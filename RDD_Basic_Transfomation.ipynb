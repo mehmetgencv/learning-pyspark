{
 "cells": [
  {
   "cell_type": "markdown",
   "id": "be5900b0",
   "metadata": {},
   "source": [
    "# Transformations\n",
    "Transformations are lazy in nature and they will not be executed until an Action is executed on top of them. Let’s try to understand various available Transformations."
   ]
  },
  {
   "cell_type": "code",
   "execution_count": 3,
   "id": "f7c20c49",
   "metadata": {},
   "outputs": [],
   "source": [
    "# show locaton of the spark\n",
    "import findspark\n",
    "findspark.init()"
   ]
  },
  {
   "cell_type": "code",
   "execution_count": 4,
   "id": "1000a061",
   "metadata": {},
   "outputs": [],
   "source": [
    "from pyspark.sql import SparkSession\n",
    "from pyspark.conf import SparkConf\n",
    "from pyspark import SparkContext"
   ]
  },
  {
   "cell_type": "code",
   "execution_count": 5,
   "id": "d698dcd9",
   "metadata": {},
   "outputs": [],
   "source": [
    "#Creating Spark Context\n",
    "pyspark = SparkSession.builder.master(\"local[4]\").appName(\"Basic \").getOrCreate()\n",
    "sc = pyspark.sparkContext"
   ]
  },
  {
   "cell_type": "code",
   "execution_count": 6,
   "id": "933ddc72",
   "metadata": {},
   "outputs": [
    {
     "data": {
      "text/plain": [
       "[1, 2, 5, 6, 8, 15, 4, 9, 7, 2]"
      ]
     },
     "execution_count": 6,
     "metadata": {},
     "output_type": "execute_result"
    }
   ],
   "source": [
    "numbers = [1, 2, 5, 6, 8, 15, 4, 9, 7, 2]\n",
    "numbers_rdd = sc.parallelize(numbers)\n",
    "numbers_rdd.take(10)"
   ]
  },
  {
   "cell_type": "code",
   "execution_count": 7,
   "id": "9d9fc6eb",
   "metadata": {},
   "outputs": [
    {
     "data": {
      "text/plain": [
       "['Fake it till make it', 'Least said, soonest mended.']"
      ]
     },
     "execution_count": 7,
     "metadata": {},
     "output_type": "execute_result"
    }
   ],
   "source": [
    "words = [\"Fake it till make it\", \"Least said, soonest mended.\", \"Doing is better than saying.\"]\n",
    "words_rdd = sc.parallelize(words)\n",
    "words_rdd.take(2)"
   ]
  },
  {
   "cell_type": "markdown",
   "id": "c07afa57",
   "metadata": {},
   "source": [
    "## 1) Map\n",
    "This will map your input to some output based on the function specified in the map function."
   ]
  },
  {
   "cell_type": "code",
   "execution_count": 8,
   "id": "6951b8da",
   "metadata": {
    "scrolled": false
   },
   "outputs": [
    {
     "data": {
      "text/plain": [
       "[1, 4, 25, 36, 64, 225, 16, 81, 49, 4]"
      ]
     },
     "execution_count": 8,
     "metadata": {},
     "output_type": "execute_result"
    }
   ],
   "source": [
    "numbers_rdd.map(lambda x: x*x).take(10)"
   ]
  },
  {
   "cell_type": "code",
   "execution_count": 9,
   "id": "4adf84e7",
   "metadata": {},
   "outputs": [
    {
     "data": {
      "text/plain": [
       "['FAKE IT TILL MAKE IT',\n",
       " 'LEAST SAID, SOONEST MENDED.',\n",
       " 'DOING IS BETTER THAN SAYING.']"
      ]
     },
     "execution_count": 9,
     "metadata": {},
     "output_type": "execute_result"
    }
   ],
   "source": [
    "words_rdd.map(lambda x: x.upper()).take(3)"
   ]
  },
  {
   "cell_type": "markdown",
   "id": "36e74bfa",
   "metadata": {},
   "source": [
    "## 2) Filter\n",
    "To filter the data based on a certain condition. "
   ]
  },
  {
   "cell_type": "code",
   "execution_count": 10,
   "id": "71af0f96",
   "metadata": {},
   "outputs": [
    {
     "data": {
      "text/plain": [
       "[1, 2, 4, 2]"
      ]
     },
     "execution_count": 10,
     "metadata": {},
     "output_type": "execute_result"
    }
   ],
   "source": [
    "numbers_rdd.filter(lambda x: x<5).take(10)"
   ]
  },
  {
   "cell_type": "markdown",
   "id": "395d2da2",
   "metadata": {},
   "source": [
    "## 3) FlatMap\n",
    " This function is very similar to map, but can return multiple elements for each input in the given RDD"
   ]
  },
  {
   "cell_type": "code",
   "execution_count": 11,
   "id": "adad2039",
   "metadata": {},
   "outputs": [
    {
     "data": {
      "text/plain": [
       "['F', 'A', 'K', 'E', ' ', 'I', 'T']"
      ]
     },
     "execution_count": 11,
     "metadata": {},
     "output_type": "execute_result"
    }
   ],
   "source": [
    "words_rdd.flatMap(lambda x: x.upper()).take(7)"
   ]
  },
  {
   "cell_type": "code",
   "execution_count": 12,
   "id": "b3024a71",
   "metadata": {},
   "outputs": [
    {
     "data": {
      "text/plain": [
       "['Fake', 'it', 'till']"
      ]
     },
     "execution_count": 12,
     "metadata": {},
     "output_type": "execute_result"
    }
   ],
   "source": [
    "words_rdd.flatMap(lambda x:x.split(\" \")).take(3)"
   ]
  },
  {
   "cell_type": "code",
   "execution_count": 13,
   "id": "954e1c2a",
   "metadata": {},
   "outputs": [
    {
     "data": {
      "text/plain": [
       "['FAKE',\n",
       " 'IT',\n",
       " 'TILL',\n",
       " 'MAKE',\n",
       " 'IT',\n",
       " 'LEAST',\n",
       " 'SAID,',\n",
       " 'SOONEST',\n",
       " 'MENDED.',\n",
       " 'DOING']"
      ]
     },
     "execution_count": 13,
     "metadata": {},
     "output_type": "execute_result"
    }
   ],
   "source": [
    "words_rdd.flatMap(lambda x:x.split(\" \")).map(lambda x: x.upper()).take(10)"
   ]
  },
  {
   "cell_type": "markdown",
   "id": "f1180b88",
   "metadata": {},
   "source": [
    "## 4) Distinct\n",
    "This will return distinct elements from a RDD"
   ]
  },
  {
   "cell_type": "code",
   "execution_count": 14,
   "id": "1422c93b",
   "metadata": {},
   "outputs": [
    {
     "data": {
      "text/plain": [
       "[8, 4, 1, 5, 9]"
      ]
     },
     "execution_count": 14,
     "metadata": {},
     "output_type": "execute_result"
    }
   ],
   "source": [
    "numbers_rdd.distinct().take(5)"
   ]
  },
  {
   "cell_type": "markdown",
   "id": "5257886c",
   "metadata": {},
   "source": [
    "## 5) Sample\n",
    "Return a sampled subset of a RDD."
   ]
  },
  {
   "cell_type": "code",
   "execution_count": 18,
   "id": "e6057a34",
   "metadata": {},
   "outputs": [
    {
     "data": {
      "text/plain": [
       "[6, 15, 4]"
      ]
     },
     "execution_count": 18,
     "metadata": {},
     "output_type": "execute_result"
    }
   ],
   "source": [
    "numbers_rdd.sample(True, 0.5, 42).take(10)"
   ]
  },
  {
   "cell_type": "code",
   "execution_count": null,
   "id": "14ced02d",
   "metadata": {},
   "outputs": [],
   "source": []
  }
 ],
 "metadata": {
  "kernelspec": {
   "display_name": "Python 3.6 (tensorflow)",
   "language": "python",
   "name": "tensorflow"
  },
  "language_info": {
   "codemirror_mode": {
    "name": "ipython",
    "version": 3
   },
   "file_extension": ".py",
   "mimetype": "text/x-python",
   "name": "python",
   "nbconvert_exporter": "python",
   "pygments_lexer": "ipython3",
   "version": "3.6.13"
  }
 },
 "nbformat": 4,
 "nbformat_minor": 5
}
